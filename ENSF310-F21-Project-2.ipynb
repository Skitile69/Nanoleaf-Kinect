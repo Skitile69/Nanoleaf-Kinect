{
 "cells": [
  {
   "cell_type": "markdown",
   "metadata": {},
   "source": [
    "# ENSF 310 Project #2\n",
    "\n",
    "## Working with the Nanoleaf Wall\n",
    "\n",
    "### Due Friday, November 25th at 5pm via github\n",
    "\n",
    "In this project, you will create an interactive visual for display on the Nanoleaf wall outside of Zetta on the 2nd floor of ICT.  The best visuals will be shown on the display throughout December and potentially in the new year.\n",
    "\n",
    "For a passing mark (80%), the visual must be:\n",
    "- animated (ie, change with time)\n",
    "- display something interesting (text, an image, a movie/gif)\n",
    "- examples could include:\n",
    "  - a scrolling text display\n",
    "  - water droplet animation\n",
    "  - animation of the northern lights, clouds during a sunset, etc\n",
    "\n",
    "For a higher mark (90%), the visual must (in addition to the points above):\n",
    "- show saved/stored data in an intuitive way\n",
    "- examples could include:\n",
    "  - temperature vs day of the week for a specified week\n",
    "  - campus energy use using archive data\n",
    "\n",
    "For a full mark (100%), the visual must (in addition to the points above) include:\n",
    "- interactivity or change with time based on a live data feed\n",
    "- examples could include:\n",
    "  - use of the built-in microphones to allow interactivity via sound\n",
    "  - current weather / temperature / wind display based on current weather outside\n",
    "  - history of weather over the past week\n",
    "\n",
    "You may work individually or with a partner.\n",
    "\n",
    "## Submission Guidelines\n",
    "Your submission (via github) should include:\n",
    "- A sketch / plan of your visual done by hand or via powerpoint (or similar)\n",
    "- A 1 to 3 minute video of a brief explanation of your visual and a demonstration on the nanoleaf wall (as a file or as a link to OneDrive/Sharepoint/YouTube)\n",
    "- Your well commented python code\n",
    "\n",
    "## Accessing the Nanoleaf wall:\n",
    "1.\tComplete the Maker Multiplex & Zetta General Access Training (https://schulich.libguides.com/m2z/general-access-training).  This will give you access to ICT 216.\n",
    "2.\tSend an email to sse.m2z@ucalgary.ca with your UCID and your course code (ENSF 310).  The Makerspace staff will grant you access to book the Nanoleaf workstation.\n",
    "3.\tTimeslots can be booked using the following link: https://schulich.libcal.com/seat/31834 \n",
    "4.\tThe nanoleafs are currently only available 9am - 4pm, so plan accordingly!\n",
    "\n",
    "\n",
    "## Some Useful Resources\n",
    "- https://documenter.getpostman.com/view/1559645/RW1gEcCH\n",
    "- https://pypi.org/project/nanoleafapi/\n",
    "- https://github.com/software-2/nanoleaf\n",
    "- The python code currently running on the panels is included as `nanoleaf.py`\n",
    "\n",
    "You may use code you find online, or code from `nanoleaf.py`, as inspiration for your code, however, you should not be copy and pasting significant portions of code.  Your display must also be original, and not re-implement one of the built-in demos.\n",
    "\n",
    "**DO NOT** change the configuration of the nanoleaf controllers without permission of the makerspace staff! "
   ]
  },
  {
   "cell_type": "code",
   "execution_count": null,
   "metadata": {},
   "outputs": [],
   "source": []
  }
 ],
 "metadata": {
  "kernelspec": {
   "display_name": "Python 3",
   "language": "python",
   "name": "python3"
  },
  "language_info": {
   "codemirror_mode": {
    "name": "ipython",
    "version": 3
   },
   "file_extension": ".py",
   "mimetype": "text/x-python",
   "name": "python",
   "nbconvert_exporter": "python",
   "pygments_lexer": "ipython3",
   "version": "3.8.3"
  }
 },
 "nbformat": 4,
 "nbformat_minor": 2
}
